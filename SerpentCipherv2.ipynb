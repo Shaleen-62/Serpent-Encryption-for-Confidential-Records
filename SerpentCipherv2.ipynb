{
  "cells": [
    {
      "cell_type": "code",
      "execution_count": null,
      "metadata": {
        "id": "YbOs2_8fpmc7"
      },
      "outputs": [],
      "source": [
        "import string\n",
        "import sys\n",
        "import getopt\n",
        "import re"
      ]
    },
    {
      "cell_type": "code",
      "execution_count": null,
      "metadata": {
        "colab": {
          "base_uri": "https://localhost:8080/"
        },
        "id": "MZbVPMxuP2vn",
        "outputId": "4c3bfa9a-8f66-443d-f451-c1093a2cea9c"
      },
      "outputs": [
        {
          "output_type": "stream",
          "name": "stdout",
          "text": [
            "Hello\n"
          ]
        }
      ],
      "source": [
        "print(\"Hello\")"
      ]
    },
    {
      "cell_type": "markdown",
      "source": [
        "#Cipher Code Essentials"
      ],
      "metadata": {
        "id": "s2jJ7xilKHgr"
      }
    },
    {
      "cell_type": "markdown",
      "metadata": {
        "id": "AlyGyUnAz6BU"
      },
      "source": [
        "### Basic Operations"
      ]
    },
    {
      "cell_type": "markdown",
      "metadata": {
        "id": "dN2CBRQFIo0d"
      },
      "source": [
        "#### Format conversion"
      ]
    },
    {
      "cell_type": "code",
      "execution_count": null,
      "metadata": {
        "id": "I6Avv5GZz8du"
      },
      "outputs": [],
      "source": [
        "# converts integer to bitstring having minimum length = minlen. \n",
        "# If length of obtained string < milen, 0s appended at the end\n",
        "def bitstring(n, minlen=1):\n",
        "    if minlen < 1:\n",
        "        print(\"ValueError: a bitstring must have at least 1 char\")\n",
        "    if int(n) < 0:\n",
        "        print(\"ValueError: bitstring representation undefined for neg numbers\")\n",
        "    result = str(bin(int(n)))[2:]\n",
        "    '''while n > 0:\n",
        "        if n & 1:\n",
        "            result = result + \"1\"\n",
        "        else:\n",
        "            result = result + \"0\"\n",
        "        n = n >> 1'''\n",
        "    if len(result) < minlen:\n",
        "        result = \"0\" * (minlen - len(result)) + result \n",
        "    return result\n",
        "\n",
        "\n",
        "# reversing a string\n",
        "def reverseString(s):\n",
        "    newstr = \"\"\n",
        "    l = list(s)\n",
        "    l.reverse()\n",
        "    for i in l:\n",
        "      newstr += i\n",
        "    return newstr\n",
        "\n",
        "\n",
        "# splitting 128 bit string into 4 32 bit strings for bitslice format\n",
        "def quadSplit(b128):\n",
        "    if len(b128) != 128:\n",
        "        print(\"ValueError: must be 128 bits long, not \" + len(b128))\n",
        "    result = []\n",
        "    for i in range(4):\n",
        "        result.append(b128[(i*32):(i+1)*32])\n",
        "    return result\n",
        "\n",
        "# concatinating 4 32 bit words into 128 bit string\n",
        "def quadJoin(l4x32):\n",
        "    if len(l4x32) != 4:\n",
        "        print(\"ValueError: need a list of 4 bitstrings, not \" + len(l4x32))\n",
        "    return l4x32[0] + l4x32[1] + l4x32[2] + l4x32[3]"
      ]
    },
    {
      "cell_type": "code",
      "source": [
        "bitstring(1, 4)"
      ],
      "metadata": {
        "colab": {
          "base_uri": "https://localhost:8080/",
          "height": 36
        },
        "id": "rHG3eKwl9CsG",
        "outputId": "a29e4772-c663-4ed8-f5bd-6b1f4c6a3cb3"
      },
      "execution_count": null,
      "outputs": [
        {
          "output_type": "execute_result",
          "data": {
            "text/plain": [
              "'0001'"
            ],
            "application/vnd.google.colaboratory.intrinsic+json": {
              "type": "string"
            }
          },
          "metadata": {},
          "execution_count": 4
        }
      ]
    },
    {
      "cell_type": "markdown",
      "metadata": {
        "id": "e1BfPTAbIug5"
      },
      "source": [
        "#### XOR"
      ]
    },
    {
      "cell_type": "code",
      "execution_count": null,
      "metadata": {
        "id": "bJHCPSIpIeQW"
      },
      "outputs": [],
      "source": [
        "# XOR of two binary strings of equal length\n",
        "def binaryXor(n1, n2):\n",
        "    if len(n1) != len(n2):\n",
        "        print(\"ValueError: can't xor bitstrings of different lengths ({} and {})\".format(len(n1), len(n2)))\n",
        "    result = \"\"\n",
        "    for i in range(len(n1)):\n",
        "        if n1[i] == n2[i]:\n",
        "            result = result + \"0\"\n",
        "        else:\n",
        "            result = result + \"1\"\n",
        "    return result\n",
        "\n",
        "# XOR of arbitrary number of bitstrings of equal length\n",
        "def xor(*args):\n",
        "    if args == []:\n",
        "        print(\"ValueError: at least one argument needed\")\n",
        "    result = args[0]\n",
        "    for arg in args[1:]:\n",
        "        result = binaryXor(result, arg)\n",
        "    return result"
      ]
    },
    {
      "cell_type": "markdown",
      "metadata": {
        "id": "F--Um8nFIwlx"
      },
      "source": [
        "#### Logical Operations"
      ]
    },
    {
      "cell_type": "code",
      "execution_count": null,
      "metadata": {
        "id": "lWELloaTIh5v"
      },
      "outputs": [],
      "source": [
        "# rotating bitstring left x = x1||x2, x <<< len(x1) = x2 || x1 \n",
        "def rotateLeft(input, places):\n",
        "    p = places % len(input)\n",
        "    return input[-p:] + input[:-p]\n",
        "\n",
        "# rotating bitstring right x = x1||x2, x >>> len(x2) = x2 || x1 \n",
        "def rotateRight(input, places):\n",
        "    return rotateLeft(input, -places)\n",
        "\n",
        "# shifting bitstring left x << 2 = 00 || x[:2]\n",
        "def shiftLeft(input, p):\n",
        "    if abs(p) >= len(input):\n",
        "        # Everything gets shifted out anyway\n",
        "        return \"0\" * len(input)\n",
        "    if p < 0:\n",
        "        # Shift right instead\n",
        "        return  input[-p:] + \"0\" * len(input[:-p])\n",
        "    elif p == 0:\n",
        "        return input\n",
        "    else: # p > 0, normal case\n",
        "        return \"0\" * len(input[-p:]) + input[:-p]\n",
        "\n",
        "# shifting bitstring right x >> 2 = x[2:] || 0\n",
        "def shiftRight(input, p):\n",
        "    return shiftLeft(input, -p)\n",
        "\n",
        "# returns length of key string\n",
        "def keyLengthInBitsOf(k):\n",
        "    return len(k) * 4"
      ]
    },
    {
      "cell_type": "markdown",
      "metadata": {
        "id": "AyK-VfIE2V7E"
      },
      "source": [
        "### Data Tables"
      ]
    },
    {
      "cell_type": "markdown",
      "metadata": {
        "id": "JNSjlO6ipjum"
      },
      "source": [
        "#### S-boxes"
      ]
    },
    {
      "cell_type": "code",
      "execution_count": null,
      "metadata": {
        "id": "YQc-CrA2n0Hf"
      },
      "outputs": [],
      "source": [
        "# all 8 S-boxes in one table\n",
        "SBoxDecimalTable = [\n",
        "\t[3, 8, 15, 1, 10, 6, 5, 11, 14, 13, 4, 2, 7, 0, 9, 12], # S0\n",
        "\t[15, 12, 2, 7, 9, 0, 5, 10, 1, 11, 14, 8, 6, 13, 3, 4], # S1\n",
        "\t[8, 6, 7, 9, 3, 12, 10, 15, 13, 1, 14, 4, 0, 11, 5, 2], # S2\n",
        "\t[0, 15, 11, 8, 12, 9, 6, 3, 13, 1, 2, 4, 10, 7, 5, 14], # S3\n",
        "\t[1, 15, 8, 3, 12, 0, 11, 6, 2, 5, 4, 10, 9, 14, 7, 13], # S4\n",
        "\t[15, 5, 2, 11, 4, 10, 9, 12, 0, 3, 14, 8, 13, 6, 7, 1], # S5\n",
        "\t[7, 2, 12, 5, 8, 4, 6, 11, 14, 9, 1, 15, 13, 3, 10, 0], # S6\n",
        "\t[1, 13, 15, 0, 14, 8, 2, 11, 7, 4, 12, 10, 9, 3, 5, 6], # S7\n",
        "    ] \n",
        "\n",
        "# S-boxes as dictionaries and inverse S-boxes \n",
        "# SboxBitString has x and S-box[x] as bit strings. Therefore list of 8 dictionaries\n",
        "SBoxBitstring = []\n",
        "# SBoxBitstringInverse has x and Sinv[x] as bit strings. Therefore, list of 8 dictionaries\n",
        "SBoxBitstringInverse = []\n",
        "for line in SBoxDecimalTable:\n",
        "    dict = {}\n",
        "    inverseDict = {}\n",
        "    for i in range(len(line)):\n",
        "        index = bitstring(i, 4)\n",
        "        value = bitstring(line[i], 4)\n",
        "        dict[index] = value\n",
        "        inverseDict[value] = index\n",
        "    SBoxBitstring.append(dict)\n",
        "    SBoxBitstringInverse.append(inverseDict)"
      ]
    },
    {
      "cell_type": "code",
      "source": [
        "print(SBoxBitstring)"
      ],
      "metadata": {
        "colab": {
          "base_uri": "https://localhost:8080/"
        },
        "id": "7vIdKcgY8SEb",
        "outputId": "97823ec2-9c7f-4705-f51d-cfd641767f6b"
      },
      "execution_count": null,
      "outputs": [
        {
          "output_type": "stream",
          "name": "stdout",
          "text": [
            "[{'0000': '0011', '0001': '1000', '0010': '1111', '0011': '0001', '0100': '1010', '0101': '0110', '0110': '0101', '0111': '1011', '1000': '1110', '1001': '1101', '1010': '0100', '1011': '0010', '1100': '0111', '1101': '0000', '1110': '1001', '1111': '1100'}, {'0000': '1111', '0001': '1100', '0010': '0010', '0011': '0111', '0100': '1001', '0101': '0000', '0110': '0101', '0111': '1010', '1000': '0001', '1001': '1011', '1010': '1110', '1011': '1000', '1100': '0110', '1101': '1101', '1110': '0011', '1111': '0100'}, {'0000': '1000', '0001': '0110', '0010': '0111', '0011': '1001', '0100': '0011', '0101': '1100', '0110': '1010', '0111': '1111', '1000': '1101', '1001': '0001', '1010': '1110', '1011': '0100', '1100': '0000', '1101': '1011', '1110': '0101', '1111': '0010'}, {'0000': '0000', '0001': '1111', '0010': '1011', '0011': '1000', '0100': '1100', '0101': '1001', '0110': '0110', '0111': '0011', '1000': '1101', '1001': '0001', '1010': '0010', '1011': '0100', '1100': '1010', '1101': '0111', '1110': '0101', '1111': '1110'}, {'0000': '0001', '0001': '1111', '0010': '1000', '0011': '0011', '0100': '1100', '0101': '0000', '0110': '1011', '0111': '0110', '1000': '0010', '1001': '0101', '1010': '0100', '1011': '1010', '1100': '1001', '1101': '1110', '1110': '0111', '1111': '1101'}, {'0000': '1111', '0001': '0101', '0010': '0010', '0011': '1011', '0100': '0100', '0101': '1010', '0110': '1001', '0111': '1100', '1000': '0000', '1001': '0011', '1010': '1110', '1011': '1000', '1100': '1101', '1101': '0110', '1110': '0111', '1111': '0001'}, {'0000': '0111', '0001': '0010', '0010': '1100', '0011': '0101', '0100': '1000', '0101': '0100', '0110': '0110', '0111': '1011', '1000': '1110', '1001': '1001', '1010': '0001', '1011': '1111', '1100': '1101', '1101': '0011', '1110': '1010', '1111': '0000'}, {'0000': '0001', '0001': '1101', '0010': '1111', '0011': '0000', '0100': '1110', '0101': '1000', '0110': '0010', '0111': '1011', '1000': '0111', '1001': '0100', '1010': '1100', '1011': '1010', '1100': '1001', '1101': '0011', '1110': '0101', '1111': '0110'}]\n"
          ]
        }
      ]
    },
    {
      "cell_type": "markdown",
      "metadata": {
        "id": "tLsbuRb4pm1n"
      },
      "source": [
        "#### Permutations"
      ]
    },
    {
      "cell_type": "code",
      "execution_count": null,
      "metadata": {
        "id": "nNT-g7MbpqPu"
      },
      "outputs": [],
      "source": [
        "# shows which value comes to which position. \n",
        "# Having value v(say, 32) at position p (say, 1) means that the output bit at position p(1) comes from the input bit at position v (32).\n",
        "\n",
        "# Table for initial permutation\n",
        "IPTable = [\n",
        "    0, 32, 64, 96, 1, 33, 65, 97, 2, 34, 66, 98, 3, 35, 67, 99,\n",
        "    4, 36, 68, 100, 5, 37, 69, 101, 6, 38, 70, 102, 7, 39, 71, 103,\n",
        "    8, 40, 72, 104, 9, 41, 73, 105, 10, 42, 74, 106, 11, 43, 75, 107,\n",
        "    12, 44, 76, 108, 13, 45, 77, 109, 14, 46, 78, 110, 15, 47, 79, 111,\n",
        "    16, 48, 80, 112, 17, 49, 81, 113, 18, 50, 82, 114, 19, 51, 83, 115,\n",
        "    20, 52, 84, 116, 21, 53, 85, 117, 22, 54, 86, 118, 23, 55, 87, 119,\n",
        "    24, 56, 88, 120, 25, 57, 89, 121, 26, 58, 90, 122, 27, 59, 91, 123,\n",
        "    28, 60, 92, 124, 29, 61, 93, 125, 30, 62, 94, 126, 31, 63, 95, 127,\n",
        "    ]\n",
        "\n",
        "# Table for final permutation\n",
        "FPTable = [\n",
        "    0, 4, 8, 12, 16, 20, 24, 28, 32, 36, 40, 44, 48, 52, 56, 60,\n",
        "    64, 68, 72, 76, 80, 84, 88, 92, 96, 100, 104, 108, 112, 116, 120, 124,\n",
        "    1, 5, 9, 13, 17, 21, 25, 29, 33, 37, 41, 45, 49, 53, 57, 61,\n",
        "    65, 69, 73, 77, 81, 85, 89, 93, 97, 101, 105, 109, 113, 117, 121, 125,\n",
        "    2, 6, 10, 14, 18, 22, 26, 30, 34, 38, 42, 46, 50, 54, 58, 62,\n",
        "    66, 70, 74, 78, 82, 86, 90, 94, 98, 102, 106, 110, 114, 118, 122, 126,\n",
        "    3, 7, 11, 15, 19, 23, 27, 31, 35, 39, 43, 47, 51, 55, 59, 63,\n",
        "    67, 71, 75, 79, 83, 87, 91, 95, 99, 103, 107, 111, 115, 119, 123, 127,\n",
        " ]"
      ]
    },
    {
      "cell_type": "markdown",
      "metadata": {
        "id": "igrjWlxkqo6q"
      },
      "source": [
        "#### Linear Transformation"
      ]
    },
    {
      "cell_type": "code",
      "execution_count": null,
      "metadata": {
        "id": "PoAu5hC0qsvP"
      },
      "outputs": [],
      "source": [
        "# the linear transformation table consists of 128 lists that consist the position of elements in input block that need to be xored in order to get corresponding element of output block.\n",
        "# NON-BITSLICE MODE\n",
        "\n",
        "# table for linear transformation used while encryption\n",
        "LTTable = [\n",
        "    [16, 52, 56, 70, 83, 94, 105],\n",
        "    [72, 114, 125],\n",
        "    [2, 9, 15, 30, 76, 84, 126],\n",
        "    [36, 90, 103],\n",
        "    [20, 56, 60, 74, 87, 98, 109],\n",
        "    [1, 76, 118],\n",
        "    [2, 6, 13, 19, 34, 80, 88],\n",
        "    [40, 94, 107],\n",
        "    [24, 60, 64, 78, 91, 102, 113],\n",
        "    [5, 80, 122],\n",
        "    [6, 10, 17, 23, 38, 84, 92],\n",
        "    [44, 98, 111],\n",
        "    [28, 64, 68, 82, 95, 106, 117],\n",
        "    [9, 84, 126],\n",
        "    [10, 14, 21, 27, 42, 88, 96],\n",
        "    [48, 102, 115],\n",
        "    [32, 68, 72, 86, 99, 110, 121],\n",
        "    [2, 13, 88],\n",
        "    [14, 18, 25, 31, 46, 92, 100],\n",
        "    [52, 106, 119],\n",
        "    [36, 72, 76, 90, 103, 114, 125],\n",
        "    [6, 17, 92],\n",
        "    [18, 22, 29, 35, 50, 96, 104],\n",
        "    [56, 110, 123],\n",
        "    [1, 40, 76, 80, 94, 107, 118],\n",
        "    [10, 21, 96],\n",
        "    [22, 26, 33, 39, 54, 100, 108],\n",
        "    [60, 114, 127],\n",
        "    [5, 44, 80, 84, 98, 111, 122],\n",
        "    [14, 25, 100],\n",
        "    [26, 30, 37, 43, 58, 104, 112],\n",
        "    [3, 118],\n",
        "    [9, 48, 84, 88, 102, 115, 126],\n",
        "    [18, 29, 104],\n",
        "    [30, 34, 41, 47, 62, 108, 116],\n",
        "    [7, 122],\n",
        "    [2, 13, 52, 88, 92, 106, 119],\n",
        "    [22, 33, 108],\n",
        "    [34, 38, 45, 51, 66, 112, 120],\n",
        "    [11, 126],\n",
        "    [6, 17, 56, 92, 96, 110, 123],\n",
        "    [26, 37, 112],\n",
        "    [38, 42, 49, 55, 70, 116, 124],\n",
        "    [2, 15, 76],\n",
        "    [10, 21, 60, 96, 100, 114, 127],\n",
        "    [30, 41, 116],\n",
        "    [0, 42, 46, 53, 59, 74, 120],\n",
        "    [6, 19, 80],\n",
        "    [3, 14, 25, 100, 104, 118],\n",
        "    [34, 45, 120],\n",
        "    [4, 46, 50, 57, 63, 78, 124],\n",
        "    [10, 23, 84],\n",
        "    [7, 18, 29, 104, 108, 122],\n",
        "    [38, 49, 124],\n",
        "    [0, 8, 50, 54, 61, 67, 82],\n",
        "    [14, 27, 88],\n",
        "    [11, 22, 33, 108, 112, 126],\n",
        "    [0, 42, 53],\n",
        "    [4, 12, 54, 58, 65, 71, 86],\n",
        "    [18, 31, 92],\n",
        "    [2, 15, 26, 37, 76, 112, 116],\n",
        "    [4, 46, 57],\n",
        "    [8, 16, 58, 62, 69, 75, 90],\n",
        "    [22, 35, 96],\n",
        "    [6, 19, 30, 41, 80, 116, 120],\n",
        "    [8, 50, 61],\n",
        "    [12, 20, 62, 66, 73, 79, 94],\n",
        "    [26, 39, 100],\n",
        "    [10, 23, 34, 45, 84, 120, 124],\n",
        "    [12, 54, 65],\n",
        "    [16, 24, 66, 70, 77, 83, 98],\n",
        "    [30, 43, 104],\n",
        "    [0, 14, 27, 38, 49, 88, 124],\n",
        "    [16, 58, 69],\n",
        "    [20, 28, 70, 74, 81, 87, 102],\n",
        "    [34, 47, 108],\n",
        "    [0, 4, 18, 31, 42, 53, 92],\n",
        "    [20, 62, 73],\n",
        "    [24, 32, 74, 78, 85, 91, 106],\n",
        "    [38, 51, 112],\n",
        "    [4, 8, 22, 35, 46, 57, 96],\n",
        "    [24, 66, 77],\n",
        "    [28, 36, 78, 82, 89, 95, 110],\n",
        "    [42, 55, 116],\n",
        "    [8, 12, 26, 39, 50, 61, 100],\n",
        "    [28, 70, 81],\n",
        "    [32, 40, 82, 86, 93, 99, 114],\n",
        "    [46, 59, 120],\n",
        "    [12, 16, 30, 43, 54, 65, 104],\n",
        "    [32, 74, 85],\n",
        "    [36, 90, 103, 118],\n",
        "    [50, 63, 124],\n",
        "    [16, 20, 34, 47, 58, 69, 108],\n",
        "    [36, 78, 89],\n",
        "    [40, 94, 107, 122],\n",
        "    [0, 54, 67],\n",
        "    [20, 24, 38, 51, 62, 73, 112],\n",
        "    [40, 82, 93],\n",
        "    [44, 98, 111, 126],\n",
        "    [4, 58, 71],\n",
        "    [24, 28, 42, 55, 66, 77, 116],\n",
        "    [44, 86, 97],\n",
        "    [2, 48, 102, 115],\n",
        "    [8, 62, 75],\n",
        "    [28, 32, 46, 59, 70, 81, 120],\n",
        "    [48, 90, 101],\n",
        "    [6, 52, 106, 119],\n",
        "    [12, 66, 79],\n",
        "    [32, 36, 50, 63, 74, 85, 124],\n",
        "    [52, 94, 105],\n",
        "    [10, 56, 110, 123],\n",
        "    [16, 70, 83],\n",
        "    [0, 36, 40, 54, 67, 78, 89],\n",
        "    [56, 98, 109],\n",
        "    [14, 60, 114, 127],\n",
        "    [20, 74, 87],\n",
        "    [4, 40, 44, 58, 71, 82, 93],\n",
        "    [60, 102, 113],\n",
        "    [3, 18, 72, 114, 118, 125],\n",
        "    [24, 78, 91],\n",
        "    [8, 44, 48, 62, 75, 86, 97],\n",
        "    [64, 106, 117],\n",
        "    [1, 7, 22, 76, 118, 122],\n",
        "    [28, 82, 95],\n",
        "    [12, 48, 52, 66, 79, 90, 101],\n",
        "    [68, 110, 121],\n",
        "    [5, 11, 26, 80, 122, 126],\n",
        "    [32, 86, 99],\n",
        "    ]\n",
        "\n",
        "# Table for linear transformation while decryption\n",
        "LTTableInverse = [\n",
        "    [53, 55, 72],\n",
        "    [1, 5, 20, 90],\n",
        "    [15, 102],\n",
        "    [3, 31, 90],\n",
        "    [57, 59, 76],\n",
        "    [5, 9, 24, 94],\n",
        "    [19, 106],\n",
        "    [7, 35, 94],\n",
        "    [61, 63, 80],\n",
        "    [9, 13, 28, 98],\n",
        "    [23, 110],\n",
        "    [11, 39, 98],\n",
        "    [65, 67, 84],\n",
        "    [13, 17, 32, 102],\n",
        "    [27, 114],\n",
        "    [1, 3, 15, 20, 43, 102],\n",
        "    [69, 71, 88],\n",
        "    [17, 21, 36, 106],\n",
        "    [1, 31, 118],\n",
        "    [5, 7, 19, 24, 47, 106],\n",
        "    [73, 75, 92],\n",
        "    [21, 25, 40, 110],\n",
        "    [5, 35, 122],\n",
        "    [9, 11, 23, 28, 51, 110],\n",
        "    [77, 79, 96],\n",
        "    [25, 29, 44, 114],\n",
        "    [9, 39, 126],\n",
        "    [13, 15, 27, 32, 55, 114],\n",
        "    [81, 83, 100],\n",
        "    [1, 29, 33, 48, 118],\n",
        "    [2, 13, 43],\n",
        "    [1, 17, 19, 31, 36, 59, 118],\n",
        "    [85, 87, 104],\n",
        "    [5, 33, 37, 52, 122],\n",
        "    [6, 17, 47],\n",
        "    [5, 21, 23, 35, 40, 63, 122],\n",
        "    [89, 91, 108],\n",
        "    [9, 37, 41, 56, 126],\n",
        "    [10, 21, 51],\n",
        "    [9, 25, 27, 39, 44, 67, 126],\n",
        "    [93, 95, 112],\n",
        "    [2, 13, 41, 45, 60],\n",
        "    [14, 25, 55],\n",
        "    [2, 13, 29, 31, 43, 48, 71],\n",
        "    [97, 99, 116],\n",
        "    [6, 17, 45, 49, 64],\n",
        "    [18, 29, 59],\n",
        "    [6, 17, 33, 35, 47, 52, 75],\n",
        "    [101, 103, 120],\n",
        "    [10, 21, 49, 53, 68],\n",
        "    [22, 33, 63],\n",
        "    [10, 21, 37, 39, 51, 56, 79],\n",
        "    [105, 107, 124],\n",
        "    [14, 25, 53, 57, 72],\n",
        "    [26, 37, 67],\n",
        "    [14, 25, 41, 43, 55, 60, 83],\n",
        "    [0, 109, 111],\n",
        "    [18, 29, 57, 61, 76],\n",
        "    [30, 41, 71],\n",
        "    [18, 29, 45, 47, 59, 64, 87],\n",
        "    [4, 113, 115],\n",
        "    [22, 33, 61, 65, 80],\n",
        "    [34, 45, 75],\n",
        "    [22, 33, 49, 51, 63, 68, 91],\n",
        "    [8, 117, 119],\n",
        "    [26, 37, 65, 69, 84],\n",
        "    [38, 49, 79],\n",
        "    [26, 37, 53, 55, 67, 72, 95],\n",
        "    [12, 121, 123],\n",
        "    [30, 41, 69, 73, 88],\n",
        "    [42, 53, 83],\n",
        "    [30, 41, 57, 59, 71, 76, 99],\n",
        "    [16, 125, 127],\n",
        "    [34, 45, 73, 77, 92],\n",
        "    [46, 57, 87],\n",
        "    [34, 45, 61, 63, 75, 80, 103],\n",
        "    [1, 3, 20],\n",
        "    [38, 49, 77, 81, 96],\n",
        "    [50, 61, 91],\n",
        "    [38, 49, 65, 67, 79, 84, 107],\n",
        "    [5, 7, 24],\n",
        "    [42, 53, 81, 85, 100],\n",
        "    [54, 65, 95],\n",
        "    [42, 53, 69, 71, 83, 88, 111],\n",
        "    [9, 11, 28],\n",
        "    [46, 57, 85, 89, 104],\n",
        "    [58, 69, 99],\n",
        "    [46, 57, 73, 75, 87, 92, 115],\n",
        "    [13, 15, 32],\n",
        "    [50, 61, 89, 93, 108],\n",
        "    [62, 73, 103],\n",
        "    [50, 61, 77, 79, 91, 96, 119],\n",
        "    [17, 19, 36],\n",
        "    [54, 65, 93, 97, 112],\n",
        "    [66, 77, 107],\n",
        "    [54, 65, 81, 83, 95, 100, 123],\n",
        "    [21, 23, 40],\n",
        "    [58, 69, 97, 101, 116],\n",
        "    [70, 81, 111],\n",
        "    [58, 69, 85, 87, 99, 104, 127],\n",
        "    [25, 27, 44],\n",
        "    [62, 73, 101, 105, 120],\n",
        "    [74, 85, 115],\n",
        "    [3, 62, 73, 89, 91, 103, 108],\n",
        "    [29, 31, 48],\n",
        "    [66, 77, 105, 109, 124],\n",
        "    [78, 89, 119],\n",
        "    [7, 66, 77, 93, 95, 107, 112],\n",
        "    [33, 35, 52],\n",
        "    [0, 70, 81, 109, 113],\n",
        "    [82, 93, 123],\n",
        "    [11, 70, 81, 97, 99, 111, 116],\n",
        "    [37, 39, 56],\n",
        "    [4, 74, 85, 113, 117],\n",
        "    [86, 97, 127],\n",
        "    [15, 74, 85, 101, 103, 115, 120],\n",
        "    [41, 43, 60],\n",
        "    [8, 78, 89, 117, 121],\n",
        "    [3, 90],\n",
        "    [19, 78, 89, 105, 107, 119, 124],\n",
        "    [45, 47, 64],\n",
        "    [12, 82, 93, 121, 125],\n",
        "    [7, 94],\n",
        "    [0, 23, 82, 93, 109, 111, 123],\n",
        "    [49, 51, 68],\n",
        "    [1, 16, 86, 97, 125],\n",
        "    [11, 98],\n",
        "    [4, 27, 86, 97, 113, 115, 127],\n",
        "]"
      ]
    },
    {
      "cell_type": "markdown",
      "metadata": {
        "id": "qSFNwO16rpK_"
      },
      "source": [
        "#### Constants"
      ]
    },
    {
      "cell_type": "code",
      "execution_count": null,
      "metadata": {
        "id": "Aq0tf7fq2mCq"
      },
      "outputs": [],
      "source": [
        "# Fractional part of Golden Ratio\n",
        "phi = 0x9e3779b9\n",
        "\n",
        "# Number of rounds\n",
        "r = 32"
      ]
    },
    {
      "cell_type": "markdown",
      "metadata": {
        "id": "xCXsv_yOr4lO"
      },
      "source": [
        "### Functions"
      ]
    },
    {
      "cell_type": "markdown",
      "metadata": {
        "id": "b2-KCGKutdpw"
      },
      "source": [
        "#### Substitution step"
      ]
    },
    {
      "cell_type": "code",
      "execution_count": null,
      "metadata": {
        "id": "Jxs70rN0tb-j"
      },
      "outputs": [],
      "source": [
        "# S-box and S-box inverse\n",
        "# substitution according to provided box number\n",
        "def S(box, input):\n",
        "    return SBoxBitstring[box%8][input]\n",
        "    \n",
        "# inverse substitution according to provided block number\n",
        "def SInverse(box, output):\n",
        "    return SBoxBitstringInverse[box%8][output]\n",
        "\n",
        "\n",
        "# Substituting each character in 128 bit string according to box number provided \n",
        "# substitution\n",
        "def SHat(box, input):\n",
        "    result = \"\"\n",
        "    for i in range(32):\n",
        "        result = result + S(box, input[4*i:4*(i+1)])\n",
        "    return result\n",
        "\n",
        "# inverse substitution\n",
        "def SHatInverse(box, output):\n",
        "    result = \"\"\n",
        "    for i in range(32):\n",
        "        result = result + SInverse(box, output[4*i:4*(i+1)])\n",
        "    return result\n",
        "\n",
        "\n",
        "# Substituting each character of 4 32 bit words taken as list\n",
        "# substitution\n",
        "def SBitslice(box, words):\n",
        "    result = [\"\", \"\", \"\", \"\"]\n",
        "    for i in range(32):\n",
        "        quad = S(box, words[0][i] + words[1][i] + words[2][i] + words[3][i])\n",
        "        for j in range(4):\n",
        "            result[j] = result[j] + quad[j]\n",
        "    return result\n",
        "\n",
        "# inverse substitution\n",
        "def SBitsliceInverse(box, words):\n",
        "    result = [\"\", \"\", \"\", \"\"]\n",
        "    for i in range(32): \n",
        "        quad = SInverse(\n",
        "            box, words[0][i] + words[1][i] + words[2][i] + words[3][i])\n",
        "        for j in range(4):\n",
        "            result[j] = result[j] + quad[j]\n",
        "    return result"
      ]
    },
    {
      "cell_type": "markdown",
      "metadata": {
        "id": "AmnJltlixNMZ"
      },
      "source": [
        "#### Permutation step"
      ]
    },
    {
      "cell_type": "code",
      "execution_count": null,
      "metadata": {
        "id": "oR4HB91-xVGa"
      },
      "outputs": [],
      "source": [
        "# USing specified permutation table (IP or LP) as specified to perform permutation on 128 bit string\n",
        "def applyPermutation(permutationTable, input):\n",
        "    if len(input) != len(permutationTable):\n",
        "        print(\"ValueError: input size {} doesn't match perm table size {}\".format(len(input), len(permutationTable)))\n",
        "    result = \"\"\n",
        "    for i in range(len(permutationTable)):\n",
        "        result = result + input[permutationTable[i]]\n",
        "    return result\n",
        "\n",
        "# Initial permutation\n",
        "def IP(input):\n",
        "    \"\"\"Apply the Initial Permutation to the 128-bit bitstring 'input'\n",
        "    and return a 128-bit bitstring as the result.\"\"\"\n",
        "    return applyPermutation(IPTable, input)\n",
        "\n",
        "# Inverse initial permutation or final permutation\n",
        "def IPInverse(output):\n",
        "    return FP(output)\n",
        "\n",
        "# Final permutation\n",
        "def FP(input):\n",
        "    return applyPermutation(FPTable, input)\n",
        "\n",
        "# Inverse final permutation or initial permutation\n",
        "def FPInverse(output):\n",
        "    \"\"\"Apply the Final Permutation in reverse.\"\"\"\n",
        "    return IP(output)"
      ]
    },
    {
      "cell_type": "markdown",
      "metadata": {
        "id": "vi4Y-M41wqk4"
      },
      "source": [
        "#### Linear transformation step"
      ]
    },
    {
      "cell_type": "code",
      "execution_count": null,
      "metadata": {
        "id": "P-sQecYnwvOB"
      },
      "outputs": [],
      "source": [
        "# Using table to perform linear transformation on 128 bit string and returning 128 bit output\n",
        "# linear transformation\n",
        "def LT(input):\n",
        "    if len(input) != 128:\n",
        "        print(\"ValueError: input to LT is not 128 bit long\")\n",
        "    result = \"\"\n",
        "    for i in range(len(LTTable)):\n",
        "        outputBit = \"0\"\n",
        "        for j in LTTable[i]:\n",
        "            outputBit = xor(outputBit, input[j])\n",
        "        result = result + outputBit\n",
        "    return result\n",
        "    \n",
        "# inverse linear transformation\n",
        "def LTInverse(output):\n",
        "    if len(output) != 128:\n",
        "        print(\"ValueError: input to inverse LT is not 128 bit long\")\n",
        "    result = \"\"\n",
        "    for i in range(len(LTTableInverse)):\n",
        "        inputBit = \"0\"\n",
        "        for j in LTTableInverse[i]:\n",
        "            inputBit = xor(inputBit, output[j])\n",
        "        result = result + inputBit\n",
        "    return result\n",
        "\n",
        "\n",
        "# Using the linear transformation equation to the 4 32 bit input words, least significant word's bitstring taken first\n",
        "# linear transformation\n",
        "def LTBitslice(X):\n",
        "    X[0] = rotateLeft(X[0], 13)\n",
        "    X[2] = rotateLeft(X[2], 3)\n",
        "    X[1] = xor(X[1], X[0], X[2])\n",
        "    X[3] = xor(X[3], X[2], shiftLeft(X[0], 3))\n",
        "    X[1] = rotateLeft(X[1], 1)\n",
        "    X[3] = rotateLeft(X[3], 7)\n",
        "    X[0] = xor(X[0], X[1], X[3])\n",
        "    X[2] = xor(X[2], X[3], shiftLeft(X[1], 7))\n",
        "    X[0] = rotateLeft(X[0], 5)\n",
        "    X[2] = rotateLeft(X[2], 22)\n",
        "    return X\n",
        "\n",
        "# inverse linear transformation\n",
        "def LTBitsliceInverse(X):\n",
        "    X[2] = rotateRight(X[2], 22)\n",
        "    X[0] = rotateRight(X[0], 5)\n",
        "    X[2] = xor(X[2], X[3], shiftLeft(X[1], 7))\n",
        "    X[0] = xor(X[0], X[1], X[3])\n",
        "    X[3] = rotateRight(X[3], 7)\n",
        "    X[1] = rotateRight(X[1], 1)\n",
        "    X[3] = xor(X[3], X[2], shiftLeft(X[0], 3))\n",
        "    X[1] = xor(X[1], X[0], X[2])\n",
        "    X[2] = rotateRight(X[2], 3)\n",
        "    X[0] = rotateRight(X[0], 13)\n",
        "    return X"
      ]
    },
    {
      "cell_type": "markdown",
      "metadata": {
        "id": "nFsyQQF4xi8S"
      },
      "source": [
        "### Round"
      ]
    },
    {
      "cell_type": "code",
      "execution_count": null,
      "metadata": {
        "id": "BoigR7gSxn5P"
      },
      "outputs": [],
      "source": [
        "# Each round takes a 128 bit string and applies the round operations on it in the given order: \n",
        "# round key mixing, substitution and linear transformation (addition key mixing in case of last round)\n",
        "# r = 32 rounds\n",
        "# one round during encryption\n",
        "def R(i, BHati, KHat):\n",
        "    # adding round key\n",
        "    xored = xor(BHati, KHat[i])\n",
        "    # Passing through sbox\n",
        "    SHati = SHat(i, xored)\n",
        "    # Last step of round depending on which rounkd it is\n",
        "    # for every round except last, linear transformation applied\n",
        "    if 0 <= i <= r-2:\n",
        "        BHatiPlus1 = LT(SHati)\n",
        "    # in case of last round, round key added\n",
        "    elif i == r-1:\n",
        "        BHatiPlus1 = xor(SHati, KHat[r])\n",
        "    else:\n",
        "        print(\"ValueError: round {} is out of 0..{} range\".format(i, r-1))\n",
        "    # returning input for the next round except in case of last round\n",
        "    return BHatiPlus1\n",
        "\n",
        "# Each round takes a 128 bit string and applies the round operation on it in the given order:\n",
        "# inverse linear transformation (additional key mixing in case of first decryption round = inverse of last encryption round), inverse substitution, key mixing\n",
        "# r = 32 rounds\n",
        "# one round during decryption\n",
        "def RInverse(i, BHatiPlus1, KHat): \n",
        "    # inverse linear transformation\n",
        "    if 0 <= i <= r-2:\n",
        "        SHati = LTInverse(BHatiPlus1)\n",
        "    # in case of inverse of last encryption round\n",
        "    elif i == r-1:\n",
        "        SHati = xor(BHatiPlus1, KHat[r])\n",
        "    else:\n",
        "        print(\"ValueError: round {} is out of 0..{} range\".format(i, r-1))\n",
        "    # inverse substitution\n",
        "    xored = SHatInverse(i, SHati)\n",
        "    # key mixing\n",
        "    BHati = xor(xored, KHat[i])\n",
        "    # returns input for previous round\n",
        "    return BHati\n",
        "\n",
        "\n",
        "# Bitslice version (input and output are both lists of 4 32-bit bitstrings)\n",
        "def RBitslice(i, Bi, K):\n",
        "    # Key mixing\n",
        "    xored = xor (Bi, K[i])\n",
        "    # Substitution\n",
        "    Si = SBitslice(i, quadSplit(xored))\n",
        "    # Linear Transformation\n",
        "    if i == r-1:\n",
        "        # In the last round, replaced by an additional key mixing\n",
        "        BiPlus1 = xor(quadJoin(Si), K[r])\n",
        "    else:\n",
        "        BiPlus1 = quadJoin(LTBitslice(Si))\n",
        "    # BIPlus1 is a 128-bit bitstring\n",
        "    return BiPlus1\n",
        "\n",
        "# Bitslice version (input and output are both lists of 4 32-bit bitstrings)\n",
        "def RBitsliceInverse(i, BiPlus1, K):\n",
        "    # Linear Transformation\n",
        "    if i == r-1:\n",
        "        # In the last round, replaced by an additional key mixing\n",
        "        Si = quadSplit(xor(BiPlus1, K[r]))\n",
        "    else:\n",
        "        Si = LTBitsliceInverse(quadSplit(BiPlus1))\n",
        "    # S Boxes\n",
        "    xored = SBitsliceInverse(i, Si)\n",
        "    # Key mixing\n",
        "    Bi = xor (quadJoin(xored), K[i])\n",
        "    return Bi"
      ]
    },
    {
      "cell_type": "markdown",
      "metadata": {
        "id": "z3xNMJfLzRH1"
      },
      "source": [
        "### Keyscheduling"
      ]
    },
    {
      "cell_type": "code",
      "execution_count": null,
      "metadata": {
        "id": "I4BWjSJA0E_d"
      },
      "outputs": [],
      "source": [
        "def makeSubkeys(userKey):\n",
        "    # We write the key as 8 32-bit words w-8 ... w-1\n",
        "    # w-8 is the least significant word\n",
        "    w = {}\n",
        "    for i in range(-8, 0):\n",
        "        w[i] = userKey[(i+8)*32:(i+9)*32]\n",
        "\n",
        "\n",
        "    # We expand these to a prekey w0 ... w131 with the affine recurrence\n",
        "    for i in range(132):\n",
        "        w[i] = rotateLeft(\n",
        "            xor(w[i-8], w[i-5], w[i-3], w[i-1], bitstring(phi, 32), bitstring(i,32)), 11)\n",
        "\n",
        "\n",
        "    # The round keys are now calculated from the prekeys using the S-boxes\n",
        "    # in bitslice mode. Each k[i] is a 32-bit bitstring.\n",
        "    k = {}\n",
        "    for i in range(r+1):\n",
        "        whichS = (r + 3 - i) % r\n",
        "        k[0+4*i] = \"\"\n",
        "        k[1+4*i] = \"\"\n",
        "        k[2+4*i] = \"\"\n",
        "        k[3+4*i] = \"\"\n",
        "        for j in range(32): # for every bit in the k and w words\n",
        "            # ENOTE: w0 and k0 are the least significant words, w99 and k99\n",
        "            # the most.\n",
        "            input = w[0+4*i][j] + w[1+4*i][j] + w[2+4*i][j] + w[3+4*i][j]\n",
        "            output = S(whichS, input)\n",
        "            for l in range(4):\n",
        "                k[l+4*i] = k[l+4*i] + output[l]\n",
        "\n",
        "    # We then renumber the 32 bit values k_j as 128 bit subkeys K_i.\n",
        "    K = []\n",
        "    for i in range(33):\n",
        "        # ENOTE: k4i is the least significant word, k4i+3 the most.\n",
        "        K.append(k[4*i] + k[4*i+1] + k[4*i+2] + k[4*i+3])\n",
        "\n",
        "    # We now apply IP to the round key in order to place the key bits in\n",
        "    # the correct column\n",
        "    KHat = []\n",
        "    for i in range(33):\n",
        "        KHat.append(IP(K[i]))\n",
        "        #O.show(\"Ki\", K[i], \"(i=%2d) Ki\" % i)\n",
        "        #O.show(\"KHati\", KHat[i], \"(i=%2d) KHati\" % i)\n",
        "\n",
        "    return w, K, KHat\n",
        "\n",
        "\n",
        "def makeLongKey(k):\n",
        "    \"\"\"Take a key k in bitstring format. Return the long version of that\n",
        "    key.\"\"\"\n",
        "\n",
        "    l = len(k)\n",
        "    if l % 32 != 0 or l < 64 or l > 256:\n",
        "        print(\"ValueError: Invalid key length {} bits)\".format(l))\n",
        "    \n",
        "    if l == 256:\n",
        "        return k\n",
        "    else:\n",
        "        return k + \"1\" + \"0\"*(256 -l -1)"
      ]
    },
    {
      "cell_type": "code",
      "execution_count": null,
      "metadata": {
        "colab": {
          "base_uri": "https://localhost:8080/"
        },
        "id": "e1jyo6owMUiA",
        "outputId": "2e0186f3-c591-4624-e279-f53a46fd0d14"
      },
      "outputs": [
        {
          "output_type": "stream",
          "name": "stdout",
          "text": [
            "0110111000110010011100100011010101110101001110000111100000101111010000010011111101000100001010000100011100101011010010110110001001010000011001000101001101100111010101100110101101011001011100000011001101110011001101100111011000111001011110010010010001000010\n",
            "True\n"
          ]
        }
      ],
      "source": [
        "key = \"6E3272357538782F413F4428472B4B6250645367566B59703373367639792442\"\n",
        "bitkey = bitstring(int(key, 16), 256)\n",
        "print(bitkey)\n",
        "subkeys = makeSubkeys(bitkey)\n",
        "hexkey = hex(int(bitkey, 2))[2:].upper()\n",
        "print(hexkey == key)"
      ]
    },
    {
      "cell_type": "code",
      "source": [
        "key = \"6E3272397538789F413F4428472B4B6250645367566B59703373367639792442\"\n",
        "bitkey = bitstring(int(key, 16), 256)\n",
        "print(bitkey)\n",
        "subkeys = makeSubkeys(bitkey)\n",
        "hexkey = hex(int(bitkey, 2))[2:].upper()\n",
        "print(hexkey == key)"
      ],
      "metadata": {
        "colab": {
          "base_uri": "https://localhost:8080/"
        },
        "id": "DLxpEHv6zKD7",
        "outputId": "3724df34-1725-4fad-a6ef-588f62f797b9"
      },
      "execution_count": null,
      "outputs": [
        {
          "output_type": "stream",
          "name": "stdout",
          "text": [
            "0110111000110010011100100011100101110101001110000111100010011111010000010011111101000100001010000100011100101011010010110110001001010000011001000101001101100111010101100110101101011001011100000011001101110011001101100111011000111001011110010010010001000010\n",
            "True\n"
          ]
        }
      ]
    },
    {
      "cell_type": "markdown",
      "metadata": {
        "id": "Em2WobNczAfr"
      },
      "source": [
        "### Encryption"
      ]
    },
    {
      "cell_type": "code",
      "execution_count": null,
      "metadata": {
        "id": "OWFBsBFMzCJW"
      },
      "outputs": [],
      "source": [
        "# input : 128-bit string of plaintext and 256-bit string of key in bits\n",
        "# outputs 128 bit string of ciphertext in bits\n",
        "def encrypt(plainText, userKey):   \n",
        "    # Key scheduling to get sub keys for each round\n",
        "    w, K, KHat = makeSubkeys(userKey)\n",
        "    # Initial permutation\n",
        "    BHat = IP(plainText) \n",
        "    # 32 rounds\n",
        "    for i in range(r):\n",
        "        BHat = R(i, BHat, KHat) # Produce BHat_i+1 from BHat_i\n",
        "    # BHat is now _32 i.e. _r\n",
        "    # Final permutation\n",
        "    C = FP(BHat)\n",
        "    # Ciphertext\n",
        "    return C\n",
        "\n",
        "# Bitslice version \n",
        "def encryptBitslice(plainText, userKey):\n",
        "    K, KHat = makeSubkeys(userKey)\n",
        "    B = plainText \n",
        "    for i in range(r):\n",
        "        B = RBitslice(i, B, K) \n",
        "    return B"
      ]
    },
    {
      "cell_type": "markdown",
      "metadata": {
        "id": "KtJJHYhzzJW1"
      },
      "source": [
        "### Decryption"
      ]
    },
    {
      "cell_type": "code",
      "execution_count": null,
      "metadata": {
        "id": "KREEJYQHzLSH"
      },
      "outputs": [],
      "source": [
        "# input : 128-bit string of ciphertext and 256-bit string of key in bits\n",
        "# outputs 128-bit string of plaintext in bits\n",
        "def decrypt(cipherText, userKey):\n",
        "    # key scheduling to get subkeys for all rounds\n",
        "    w, K, KHat = makeSubkeys(userKey)\n",
        "    # Inverse of final permutation => initial permutation\n",
        "    BHat = FPInverse(cipherText) # BHat_r at this stage\n",
        "    # Inverse rounds\n",
        "    for i in range(r-1, -1, -1): # from r-1 down to 0 included\n",
        "        BHat = RInverse(i, BHat, KHat)\n",
        "    # Inverse of initial permutation => final permutation\n",
        "    plainText = IPInverse(BHat)\n",
        "    # returns plaintext\n",
        "    return plainText\n",
        "    \n",
        "# Bitslice version\n",
        "def decryptBitslice(cipherText, userKey):\n",
        "    K, KHat = makeSubkeys(userKey)\n",
        "    B = cipherText \n",
        "    for i in range(r-1, -1, -1):\n",
        "        B = RBitsliceInverse(i, B, K) \n",
        "    return B"
      ]
    },
    {
      "cell_type": "markdown",
      "metadata": {
        "id": "6oEYhnA28RgZ"
      },
      "source": [
        "### To-Use"
      ]
    },
    {
      "cell_type": "code",
      "execution_count": null,
      "metadata": {
        "id": "fOZVjTxH8Q1w"
      },
      "outputs": [],
      "source": [
        "process = int(input(\"Would you like to perform encryption or decryption (1:encryption / 2:decryption)? \"))\n",
        "all = []\n",
        "\n",
        "def Process(process):\n",
        "  text = input(\"Please enter 128 bit text in hexadecimal format: \")\n",
        "  bittext = bin(int(\"0x\"+text, 16))\n",
        "  key = input(\"Please enter 256 bit key in hexadecimal format: \")\n",
        "  bitkey = bin(int(\"0x\"+key, 16))\n",
        "  if process == 1:\n",
        "      encrypted = encrypt(bittext, bitkey)\n",
        "      hexenc = str(hex(int(encrypted, 2)))[2:]\n",
        "      print(\"\\n\\ngiven plaintext: {}\\nciphertext: {}\\n\\n\".format(text, hexenc.upper()))\n",
        "      all.append(encrypted)\n",
        "      all.append(hexenc)\n",
        "  elif process == 2:\n",
        "      decrypted = decrypt(bittext, bitkey) \n",
        "      hexdec = str(hex(int(decrypted, 2)))[2:] \n",
        "      print(\"\\n\\ngiven ciphertext: {}\\nplaintext: {}\\n\\n\".format(text, hexdec.upper()))\n",
        "      all.append(decrypted)\n",
        "      all.append(hexdec)\n",
        "  else:\n",
        "      print(\"\\n\\nPlease enter a valid choice.\\n\\n\")\n",
        "  cont = input(\"Do you want to continue (Y:yes / N:no)? \")\n",
        "  if cont == \"Y\":\n",
        "      pn = int(input(\"\\n\\nWould you like to perform encryption or decryption (1:encryption / 2:decryption)? \"))\n",
        "      Process(pn)\n",
        "  return all\n",
        "\n",
        "info = Process(process)"
      ]
    },
    {
      "cell_type": "markdown",
      "source": [
        "#Integral Property\n",
        "\n",
        "\n"
      ],
      "metadata": {
        "id": "3z0soWqEd7H1"
      }
    },
    {
      "cell_type": "code",
      "source": [
        "def R_small_add(i, BHati, KHat):\n",
        "    # adding round key\n",
        "    xored = xor(BHati, KHat[i])\n",
        "    # Passing through sbox\n",
        "    SHati = SHat(i, xored)\n",
        "    # Last step of round depending on which rounkd it is\n",
        "    # for every round except last, linear transformation applied\n",
        "    if 0 <= i <= r-2:\n",
        "        BHatiPlus1 = LT(SHati)\n",
        "    # in case of last round, round key added\n",
        "    elif i == r-1:\n",
        "        BHatiPlus1 = xor(SHati, KHat[r])\n",
        "    else:\n",
        "        print(\"ValueError: round {} is out of 0..{} range\".format(i, r-1))\n",
        "    # returning input for the next round except in case of last round\n",
        "    return SHati, BHatiPlus1"
      ],
      "metadata": {
        "id": "iPsxlpWAoE6e"
      },
      "execution_count": null,
      "outputs": []
    },
    {
      "cell_type": "code",
      "source": [
        "def round_encrypt(plainText, userKey):   \n",
        "    half_round_result = []\n",
        "    round_result = []\n",
        "    # Key scheduling to get sub keys for each round\n",
        "    w, K, KHat = makeSubkeys(userKey)\n",
        "    # Initial permutation\n",
        "    BHat = plainText \n",
        "    # 32 rounds\n",
        "    for i in range(r):\n",
        "        after_sub = R_small_add(i, BHat, KHat)[0]\n",
        "        if len(after_sub) < 128:\n",
        "          after_sub = \"0\"*(128-len(after_sub)) + after_sub\n",
        "        BHat = R_small_add(i, BHat, KHat)[1] # Produce BHat_i+1 from BHat_i\n",
        "        if len(BHat) < 128:\n",
        "          BHat = \"0\"*(128-len(BHat)) + BHat\n",
        "        round_result.append(BHat)\n",
        "        half_round_result.append(after_sub)\n",
        "    # BHat is now _32 i.e. _r\n",
        "    # Final permutation\n",
        "    C = BHat\n",
        "    # Ciphertext\n",
        "    return round_result, C, half_round_result"
      ],
      "metadata": {
        "id": "biHbot0Kcxz7"
      },
      "execution_count": null,
      "outputs": []
    },
    {
      "cell_type": "code",
      "source": [
        "key = \"F0655368566D5971337436763979244226452948404D635166546A576E5A7234\"\n",
        "bitkey = bitstring(int(key, 16), 256)\n",
        "print(bitkey)"
      ],
      "metadata": {
        "colab": {
          "base_uri": "https://localhost:8080/"
        },
        "id": "sFsekIqF0N1W",
        "outputId": "ba427c6e-b358-488b-908a-2f8ed2457ba7"
      },
      "execution_count": null,
      "outputs": [
        {
          "output_type": "stream",
          "name": "stdout",
          "text": [
            "1111000001100101010100110110100001010110011011010101100101110001001100110111010000110110011101100011100101111001001001000100001000100110010001010010100101001000010000000100110101100011010100010110011001010100011010100101011101101110010110100111001000110100\n"
          ]
        }
      ]
    },
    {
      "cell_type": "code",
      "source": [
        "key = \"357538782F413F4428472B4B6250655368566D59713374367639792442264529\"\n",
        "bitkey = bitstring(int(key, 16), 256)\n",
        "print(bitkey)"
      ],
      "metadata": {
        "id": "LZWVHeV51oHf",
        "colab": {
          "base_uri": "https://localhost:8080/"
        },
        "outputId": "ff643c80-80c3-4cdf-f41d-562fe28fc3e0"
      },
      "execution_count": null,
      "outputs": [
        {
          "output_type": "stream",
          "name": "stdout",
          "text": [
            "0011010101110101001110000111100000101111010000010011111101000100001010000100011100101011010010110110001001010000011001010101001101101000010101100110110101011001011100010011001101110100001101100111011000111001011110010010010001000010001001100100010100101001\n"
          ]
        }
      ]
    },
    {
      "cell_type": "code",
      "source": [
        "initial_message = \"28472B4B625065536856FD5971337436\"\n",
        "messages = []\n",
        "for i in range(16):\n",
        "    new_msg = hex(i)[2:] + initial_message[1:]\n",
        "    messages.append(new_msg.upper())\n",
        "messages"
      ],
      "metadata": {
        "colab": {
          "base_uri": "https://localhost:8080/"
        },
        "id": "QIkhCaCLd6Bx",
        "outputId": "9150b95f-8879-456f-98b9-36171e48207f"
      },
      "execution_count": null,
      "outputs": [
        {
          "output_type": "execute_result",
          "data": {
            "text/plain": [
              "['08472B4B625065536856FD5971337436',\n",
              " '18472B4B625065536856FD5971337436',\n",
              " '28472B4B625065536856FD5971337436',\n",
              " '38472B4B625065536856FD5971337436',\n",
              " '48472B4B625065536856FD5971337436',\n",
              " '58472B4B625065536856FD5971337436',\n",
              " '68472B4B625065536856FD5971337436',\n",
              " '78472B4B625065536856FD5971337436',\n",
              " '88472B4B625065536856FD5971337436',\n",
              " '98472B4B625065536856FD5971337436',\n",
              " 'A8472B4B625065536856FD5971337436',\n",
              " 'B8472B4B625065536856FD5971337436',\n",
              " 'C8472B4B625065536856FD5971337436',\n",
              " 'D8472B4B625065536856FD5971337436',\n",
              " 'E8472B4B625065536856FD5971337436',\n",
              " 'F8472B4B625065536856FD5971337436']"
            ]
          },
          "metadata": {},
          "execution_count": 102
        }
      ]
    },
    {
      "cell_type": "code",
      "source": [
        "initial_message = \"28472B4B665525036856F09876547436\"\n",
        "messages = []\n",
        "for i in range(16):\n",
        "    new_msg = hex(i)[2:] + initial_message[1:]\n",
        "    messages.append(new_msg.upper())\n",
        "messages"
      ],
      "metadata": {
        "id": "fkt5VkQ4xAtl",
        "colab": {
          "base_uri": "https://localhost:8080/"
        },
        "outputId": "95d2005d-b368-4b2a-9af4-05583c718f16"
      },
      "execution_count": null,
      "outputs": [
        {
          "output_type": "execute_result",
          "data": {
            "text/plain": [
              "['08472B4B665525036856F09876547436',\n",
              " '18472B4B665525036856F09876547436',\n",
              " '28472B4B665525036856F09876547436',\n",
              " '38472B4B665525036856F09876547436',\n",
              " '48472B4B665525036856F09876547436',\n",
              " '58472B4B665525036856F09876547436',\n",
              " '68472B4B665525036856F09876547436',\n",
              " '78472B4B665525036856F09876547436',\n",
              " '88472B4B665525036856F09876547436',\n",
              " '98472B4B665525036856F09876547436',\n",
              " 'A8472B4B665525036856F09876547436',\n",
              " 'B8472B4B665525036856F09876547436',\n",
              " 'C8472B4B665525036856F09876547436',\n",
              " 'D8472B4B665525036856F09876547436',\n",
              " 'E8472B4B665525036856F09876547436',\n",
              " 'F8472B4B665525036856F09876547436']"
            ]
          },
          "metadata": {},
          "execution_count": 105
        }
      ]
    },
    {
      "cell_type": "code",
      "source": [
        "initial_message = \"28472B4B665525036856F09876547436\"\n",
        "messages = []\n",
        "for i in range(16):\n",
        "    new_msg = hex(i)[2:] + initial_message[1:]\n",
        "    messages.append(new_msg.upper())\n",
        "messages"
      ],
      "metadata": {
        "id": "F2qysCBczA3b",
        "colab": {
          "base_uri": "https://localhost:8080/"
        },
        "outputId": "c54f1c75-8635-44e5-b55c-84a425ac921a"
      },
      "execution_count": null,
      "outputs": [
        {
          "output_type": "execute_result",
          "data": {
            "text/plain": [
              "['08472B4B665525036856F09876547436',\n",
              " '18472B4B665525036856F09876547436',\n",
              " '28472B4B665525036856F09876547436',\n",
              " '38472B4B665525036856F09876547436',\n",
              " '48472B4B665525036856F09876547436',\n",
              " '58472B4B665525036856F09876547436',\n",
              " '68472B4B665525036856F09876547436',\n",
              " '78472B4B665525036856F09876547436',\n",
              " '88472B4B665525036856F09876547436',\n",
              " '98472B4B665525036856F09876547436',\n",
              " 'A8472B4B665525036856F09876547436',\n",
              " 'B8472B4B665525036856F09876547436',\n",
              " 'C8472B4B665525036856F09876547436',\n",
              " 'D8472B4B665525036856F09876547436',\n",
              " 'E8472B4B665525036856F09876547436',\n",
              " 'F8472B4B665525036856F09876547436']"
            ]
          },
          "metadata": {},
          "execution_count": 93
        }
      ]
    },
    {
      "cell_type": "code",
      "source": [
        "round1 = []\n",
        "round2 = []\n",
        "round2_5 = []\n",
        "round3 = []\n",
        "round4 = []\n",
        "round_results_all = []\n",
        "\n",
        "for i in range(len(messages)):\n",
        "    round_bit = bin(int(messages[i], 16))[2:]\n",
        "    if len(round_bit) < 128:\n",
        "      round_bit = \"0\"*(128-len(round_bit)) + round_bit\n",
        "    results = round_encrypt(round_bit, bitkey)\n",
        "    result = results[0]\n",
        "    half_result = results[2]\n",
        "    round1.append(hex(int(result[0], 2))[2:])\n",
        "    round2.append(hex(int(result[1], 2))[2:])\n",
        "    round3.append(hex(int(result[2], 2))[2:])\n",
        "    round4.append(hex(int(result[3], 2))[2:])\n",
        "    round2_5.append(hex(int(half_result[2], 2))[2:])\n",
        "    #round1.append(result[0])   \n",
        "    round_results_all.append(result) "
      ],
      "metadata": {
        "id": "gVnwuDWOg-Ei"
      },
      "execution_count": null,
      "outputs": []
    },
    {
      "cell_type": "code",
      "source": [
        "round1"
      ],
      "metadata": {
        "colab": {
          "base_uri": "https://localhost:8080/"
        },
        "id": "bq-qPLrSxwGW",
        "outputId": "bcfda0cc-a64d-4e09-c068-52f63144f34b"
      },
      "execution_count": null,
      "outputs": [
        {
          "output_type": "execute_result",
          "data": {
            "text/plain": [
              "['1e3966d08ea0c50f9e9ca0f10225af08',\n",
              " '3c3926d186b247479e14a0f000252d08',\n",
              " '1e3966d18ea2474f9e14a0f002252d08',\n",
              " '3839265186b045079e9ca0f10025ad28',\n",
              " '3839265086b2c7479e14a0f000252f28',\n",
              " '3c3926d086b0c5079e9ca0f10025af08',\n",
              " '3c3926d186b045079e9ca0f10025ad08',\n",
              " '1a3966518ea2474f9e14a0f002252d28',\n",
              " '1a3966518ea0450f9e9ca0f10225ad28',\n",
              " '3839265086b0c5079e9ca0f10025af28',\n",
              " '3c3926d086b2c7479e14a0f000252f08',\n",
              " '1a3966508ea2c74f9e14a0f002252f28',\n",
              " '1e3966d08ea2c74f9e14a0f002252f08',\n",
              " '3839265186b247479e14a0f000252d28',\n",
              " '1a3966508ea0c50f9e9ca0f10225af28',\n",
              " '1e3966d18ea0450f9e9ca0f10225ad08']"
            ]
          },
          "metadata": {},
          "execution_count": 107
        }
      ]
    },
    {
      "cell_type": "code",
      "source": [
        "#round1\n",
        "prop = []\n",
        "for i in range(32):\n",
        "  listmade = []\n",
        "  for j in range(16):\n",
        "    listmade.append(round1[j][i])\n",
        "  setlen = len(set(listmade))\n",
        "  prop.append(setlen)\n",
        "print(prop)"
      ],
      "metadata": {
        "colab": {
          "base_uri": "https://localhost:8080/"
        },
        "id": "Jqy_Vee7jI89",
        "outputId": "565650e3-fa60-4d25-ae35-832f07bf7099"
      },
      "execution_count": null,
      "outputs": [
        {
          "output_type": "stream",
          "name": "stdout",
          "text": [
            "[2, 4, 1, 1, 2, 1, 2, 2, 1, 2, 2, 2, 2, 2, 2, 2, 1, 1, 2, 2, 1, 1, 1, 2, 1, 2, 1, 1, 2, 2, 2, 1]\n"
          ]
        }
      ]
    },
    {
      "cell_type": "code",
      "source": [
        "round2"
      ],
      "metadata": {
        "colab": {
          "base_uri": "https://localhost:8080/"
        },
        "id": "-4KUgq_qmUrH",
        "outputId": "c09d32fa-afe8-422a-923e-0344d8fa2059"
      },
      "execution_count": null,
      "outputs": [
        {
          "output_type": "execute_result",
          "data": {
            "text/plain": [
              "['4d91715ba60401a8c114a4a13e84d5e2',\n",
              " '6fa1bb55fe0ec3449fc56745917cca1a',\n",
              " '4480f9e0047ce732eee8e5c6c05ceaba',\n",
              " '4279a261d6f601e2b3baf6827dc6feac',\n",
              " '4b682ada748ee7789c46b7e5831ec1f4',\n",
              " '66b033ee5c7625deb03926226fa4f542',\n",
              " '42b9036dd676a1c6b1b03682e5c4f7aa',\n",
              " '444058ec14fc4f16ece225c6585ee39c',\n",
              " '6958e0d43c842d94c29774012ce6de2c',\n",
              " '667092e25cf685fab233e622f7a6fc44',\n",
              " '4ba88bd6740e475c9e4c77e51b1cc8f2',\n",
              " '6049686f9efccb0eed6b3566d23ee174',\n",
              " '6089c9638e7c632aef61f5664a3ce852',\n",
              " '6f611a59fe8e63609dcfa745097ec31c',\n",
              " '4d51d057b684a98cc31e64a1a686dcc4',\n",
              " '699841d82c0485b0c09db401b4e4d70a']"
            ]
          },
          "metadata": {},
          "execution_count": 109
        }
      ]
    },
    {
      "cell_type": "code",
      "source": [
        "round2_5"
      ],
      "metadata": {
        "colab": {
          "base_uri": "https://localhost:8080/"
        },
        "id": "6oEToJ8JuU-L",
        "outputId": "1f5b9ef7-6492-4da8-f5a4-19db6d415ab3"
      },
      "execution_count": null,
      "outputs": [
        {
          "output_type": "execute_result",
          "data": {
            "text/plain": [
              "['a6e8cdcdcded2bdacda6963f24af3d65',\n",
              " '391817ca88e792ae8a4827e9c312cf5a',\n",
              " 'ad46b8592eb86460ff1bf8788c42ff3a',\n",
              " 'a53dd4a77dce2b007e02a9a34d7ca9c8',\n",
              " 'afc189b1de7764ca8c9977893a2bc08d',\n",
              " '3ed66e5be7beb12871304903ee3fad45',\n",
              " 'a5dd7ea57dbecb5d7d0ce9a3787faeca',\n",
              " 'adf6f6525ec8499dfc1f48781b4bf5a8',\n",
              " '3ca101bf077db64ec457565f518c39b8',\n",
              " '3e364456e7cef1b3743af903973ca64d',\n",
              " 'af11e7bcdee744f78f915789b522cc85',\n",
              " '30fd36a0a8c89f78f365e8d86fbbf0dd',\n",
              " '304d58a8f8b81283fa63a8d8d2b2fce5',\n",
              " '39c899ce88771235834e97e9001bc558',\n",
              " 'a6a821c33d7dcce7cea4263fa9ac369d',\n",
              " '3ce1adb4b7edf115c15d765ff68f3e2a']"
            ]
          },
          "metadata": {},
          "execution_count": 110
        }
      ]
    },
    {
      "cell_type": "code",
      "source": [
        "round4"
      ],
      "metadata": {
        "id": "oLTe6vtKmxct",
        "colab": {
          "base_uri": "https://localhost:8080/"
        },
        "outputId": "9f7874a1-aad3-481c-9b0c-faf4efe314c0"
      },
      "execution_count": null,
      "outputs": [
        {
          "output_type": "execute_result",
          "data": {
            "text/plain": [
              "['b6096593bec75cec81f5d0f317c82203',\n",
              " 'aef1291f8ea28b01c467fcef5b89841c',\n",
              " 'da21ac64d1df3ed1fc792014173bf797',\n",
              " 'f1e4bc7dd50928b495f5843b20e22bc7',\n",
              " 'f9ea384657963ffced71b137dcabf066',\n",
              " '13874705970fcb5ba32d523afc9069ed',\n",
              " '971d53d4f94203f7e4beb12465492b19',\n",
              " 'bcea07bc4acca6e1b8fc4faac5a5206b',\n",
              " 'f8b7b08d7a79a2f3316d604538be318a',\n",
              " 'c0b5ef8615a9963dd7a1f52b1801b6af',\n",
              " 'ac3650f0be7ed04b080e3e75d489958b',\n",
              " 'c29d23ecf423a18033f995c7be81230d',\n",
              " 'efbf9623f387ef88f0817c1383284bf4',\n",
              " 'f2f3976dac71f6ffe1a8a981a56b2465',\n",
              " '474d033ee6558986bf60060c1d5b64c1',\n",
              " '3846734641183a6cfe61d8fc3371d7fe']"
            ]
          },
          "metadata": {},
          "execution_count": 65
        }
      ]
    },
    {
      "cell_type": "code",
      "source": [
        "xored1 =[]\n",
        "xored2 = []\n",
        "xored3 = []\n",
        "xored4 = 0\n",
        "xored2_5 = []\n",
        "\n",
        "for j in range(32):\n",
        "  xored = 0\n",
        "  for i in range(len(round1)):\n",
        "    xored = xored ^ int(round1[i][j], 16)\n",
        "  xored1.append(xored)\n",
        "\n",
        "for k in range(32):\n",
        "  xored = 0\n",
        "  for l in range(len(round2)):\n",
        "    xored = xored ^ int(round2[l][k], 16)\n",
        "  xored2.append(xored)\n",
        "\n",
        "#for m in range(len(round3[0])):\n",
        "#  xored = 0\n",
        "#  for n in range(len(round3)):\n",
        "#    xored = xored ^ int(round3[n][m], 16)\n",
        "#  xored3.append(xored)\n",
        "\n",
        "#for q in range(len(round4)):\n",
        "#  xored4 = xored4 ^ int(round4[q][0], 16)\n",
        "\n",
        "for o in range(len(round2_5[0])):\n",
        "  xored = 0\n",
        "  for p in range(len(round2_5)):\n",
        "    xored = xored ^ int(round2_5[p][o], 16)\n",
        "  xored2_5.append(xored)"
      ],
      "metadata": {
        "id": "pfWuxhcGk3hw"
      },
      "execution_count": null,
      "outputs": []
    },
    {
      "cell_type": "code",
      "source": [
        "print(xored1)\n",
        "print(xored2)\n",
        "print(xored2_5)"
      ],
      "metadata": {
        "id": "9nnCKS6L13xT",
        "colab": {
          "base_uri": "https://localhost:8080/"
        },
        "outputId": "faa9f0a4-9c05-44b2-bbe9-66ed6a2b37bf"
      },
      "execution_count": null,
      "outputs": [
        {
          "output_type": "stream",
          "name": "stdout",
          "text": [
            "[0, 0, 0, 0, 0, 0, 0, 0, 0, 0, 0, 0, 0, 0, 0, 0, 0, 0, 0, 0, 0, 0, 0, 0, 0, 0, 0, 0, 0, 0, 0, 0]\n",
            "[0, 0, 0, 0, 0, 0, 0, 0, 0, 0, 0, 0, 0, 0, 0, 0, 0, 0, 0, 0, 0, 0, 0, 0, 0, 0, 0, 0, 0, 0, 0, 0]\n",
            "[0, 0, 0, 0, 0, 0, 0, 0, 0, 0, 6, 12, 0, 0, 0, 0, 0, 0, 0, 0, 0, 0, 0, 0, 6, 0, 10, 0, 0, 0, 0, 0]\n"
          ]
        }
      ]
    },
    {
      "cell_type": "code",
      "source": [
        "print(xored1)\n",
        "print(xored2)\n",
        "print(xored2_5)"
      ],
      "metadata": {
        "id": "B_1cwy--ld09",
        "colab": {
          "base_uri": "https://localhost:8080/"
        },
        "outputId": "0c19a1b5-1bae-48db-cdce-fa8782ee1b79"
      },
      "execution_count": null,
      "outputs": [
        {
          "output_type": "stream",
          "name": "stdout",
          "text": [
            "[0, 0, 0, 0, 0, 0, 0, 0, 0, 0, 0, 0, 0, 0, 0, 0, 0, 0, 0, 0, 0, 0, 0, 0, 0, 0, 0, 0, 0, 0, 0, 0]\n",
            "[0, 0, 0, 0, 0, 0, 0, 0, 0, 0, 0, 0, 0, 0, 0, 0, 0, 0, 0, 0, 0, 0, 0, 0, 0, 0, 0, 0, 0, 0, 0, 0]\n",
            "[0, 0, 0, 0, 0, 0, 0, 0, 10, 0, 0, 0, 0, 0, 0, 0, 0, 0, 0, 0, 0, 0, 0, 0, 0, 0, 0, 0, 0, 0, 0, 0]\n"
          ]
        }
      ]
    },
    {
      "cell_type": "code",
      "source": [
        "print(xored1)\n",
        "print(xored2)\n",
        "print(xored2_5)"
      ],
      "metadata": {
        "id": "uh71kZd21g8P",
        "colab": {
          "base_uri": "https://localhost:8080/"
        },
        "outputId": "ff1c2508-cb45-42a1-9bf5-ffcb5e024d82"
      },
      "execution_count": null,
      "outputs": [
        {
          "output_type": "stream",
          "name": "stdout",
          "text": [
            "[0, 0, 0, 0, 0, 0, 0, 0, 0, 0, 0, 0, 0, 0, 0, 0, 0, 0, 0, 0, 0, 0, 0, 0, 0, 0, 0, 0, 0, 0, 0, 0]\n",
            "[0, 0, 0, 0, 0, 0, 0, 0, 0, 0, 0, 0, 0, 0, 0, 0, 0, 0, 0, 0, 0, 0, 0, 0, 0, 0, 0, 0, 0, 0, 0, 0]\n",
            "[0, 10, 0, 0, 0, 0, 0, 0, 0, 0, 0, 12, 0, 0, 12, 0, 0, 0, 0, 0, 6, 0, 0, 0, 0, 0, 0, 0, 0, 6, 0, 0]\n"
          ]
        }
      ]
    },
    {
      "cell_type": "code",
      "source": [
        "print(xored1)\n",
        "print(xored2)\n",
        "print(xored2_5)"
      ],
      "metadata": {
        "id": "SWJNlZn1yy4K",
        "colab": {
          "base_uri": "https://localhost:8080/"
        },
        "outputId": "2c49eb1d-83f1-4c6f-ddfb-078f1a01e9c3"
      },
      "execution_count": null,
      "outputs": [
        {
          "output_type": "stream",
          "name": "stdout",
          "text": [
            "[0, 0, 0, 0, 0, 0, 0, 0, 0, 0, 0, 0, 0, 0, 0, 0, 0, 0, 0, 0, 0, 0, 0, 0, 0, 0, 0, 0, 0, 0, 0, 0]\n",
            "[0, 0, 0, 0, 0, 0, 0, 0, 0, 0, 0, 0, 0, 0, 0, 0, 0, 0, 0, 0, 0, 0, 0, 0, 0, 0, 0, 0, 0, 0, 0, 0]\n",
            "[0, 10, 0, 0, 0, 0, 0, 0, 0, 0, 0, 12, 0, 0, 12, 0, 0, 0, 0, 0, 6, 0, 0, 0, 0, 0, 0, 0, 0, 6, 0, 0]\n"
          ]
        }
      ]
    },
    {
      "cell_type": "code",
      "source": [
        "print(xored1)\n",
        "print(xored2)\n",
        "print(xored2_5)"
      ],
      "metadata": {
        "id": "Ix7NdDJDz_jf",
        "colab": {
          "base_uri": "https://localhost:8080/"
        },
        "outputId": "48d0edbd-3c3f-4a7d-ef49-7a8ee9e69520"
      },
      "execution_count": null,
      "outputs": [
        {
          "output_type": "stream",
          "name": "stdout",
          "text": [
            "[0, 0, 0, 0, 0, 0, 0, 0, 0, 0, 0, 0, 0, 0, 0, 0, 0, 0, 0, 0, 0, 0, 0, 0, 0, 0, 0, 0, 0, 0, 0, 0]\n",
            "[0, 0, 0, 0, 0, 0, 0, 0, 0, 0, 0, 0, 0, 0, 0, 0, 0, 0, 0, 0, 0, 0, 0, 0, 0, 0, 0, 0, 0, 0, 0, 0]\n",
            "[0, 0, 0, 0, 0, 0, 0, 0, 6, 0, 0, 0, 0, 0, 0, 0, 0, 0, 0, 0, 0, 0, 0, 0, 0, 0, 0, 0, 0, 0, 12, 0]\n"
          ]
        }
      ]
    },
    {
      "cell_type": "code",
      "execution_count": null,
      "metadata": {
        "id": "yNc7fYgajS1p",
        "colab": {
          "base_uri": "https://localhost:8080/"
        },
        "outputId": "9e41e8be-f643-4882-d87c-1a7281476cdb"
      },
      "outputs": [
        {
          "output_type": "stream",
          "name": "stdout",
          "text": [
            "0b101000010001110010101101001011011000100101000001100101010100110110100001010110011011010101100101110001001100110111010000110110\n",
            "10110110011101001000001111110110110101110101011011001101001011101010100011010011001110110011111001010101101000111100111010110110\n",
            "B67483F6D756CD2EA8D33B3E55A3CEB6\n"
          ]
        }
      ],
      "source": [
        "message = \"28472B4B6250655368566D5971337436\"\n",
        "bitmg = bin(int(message, 16))\n",
        "print(bitmg)\n",
        "encrypted = encrypt(bitmg, bitkey)\n",
        "print(encrypted)\n",
        "print(hex(int(encrypted, 2))[2:].upper())"
      ]
    },
    {
      "cell_type": "code",
      "source": [
        "def bitor(x1, x2):\n",
        "  ored = x1 or x2\n",
        "  if ored:\n",
        "    return 1\n",
        "  else:\n",
        "    return 0"
      ],
      "metadata": {
        "id": "GO6TZZHCwpN_"
      },
      "execution_count": null,
      "outputs": []
    },
    {
      "cell_type": "code",
      "source": [
        "def bitxor(x1, x2):\n",
        "  if x1 == x2:\n",
        "    return 0\n",
        "  else:\n",
        "    return 1"
      ],
      "metadata": {
        "id": "fMohh1hd0hdg"
      },
      "execution_count": null,
      "outputs": []
    },
    {
      "cell_type": "markdown",
      "source": [
        "take 100 keys\n",
        "\n",
        "for each key, take the generated 16 plaintexts with one all property and rest constnts, store the results of each encryption in 'results' i.e 32 128 bit messages.\n",
        "\n",
        "make 3 lists xored1, xored2 and xored2_5 of length 128 each, storing the xor of ith bit of all 16 plaintext encryption operations.\n",
        "\n",
        "make 3 lists ored1, ored2, and ored2_5 of length 128 each, storing the or of ith bit of of xors for each round's results.\n"
      ],
      "metadata": {
        "id": "rLzNZm2biCOb"
      }
    },
    {
      "cell_type": "code",
      "source": [
        "# 100 keys\n",
        "for i in range(100):\n",
        "    key = \"\"\n",
        "    for j in range(255):\n",
        "      key += str(random.randint(0,1))\n",
        "    key = \"1\" + key\n",
        "    keys.append(key)"
      ],
      "metadata": {
        "id": "tWW8EKZRu2f9"
      },
      "execution_count": null,
      "outputs": []
    },
    {
      "cell_type": "code",
      "source": [
        "# 16 plaintexts\n",
        "initial_message = \"28472B4B625065536856FD5971337436\"\n",
        "messages = []\n",
        "bit_messages = []\n",
        "\n",
        "for i in range(16):\n",
        "    new_msg = str(hex(i)[2:]) + str(initial_message[1:])\n",
        "    messages.append(new_msg.upper())\n",
        "\n",
        "for message in messages:\n",
        "    message = bin(int(message, 16))[2:]\n",
        "    if len(message) < 128:\n",
        "      message = \"0\"*(128 - len(message)) + message\n",
        "    bit_messages.append(message)"
      ],
      "metadata": {
        "id": "lTJa8Ct9zvDH"
      },
      "execution_count": null,
      "outputs": []
    },
    {
      "cell_type": "code",
      "source": [
        "ored1 = [\"0\"]*128\n",
        "ored2 = [\"0\"]*128\n",
        "ored2_5 = [\"0\"]*128\n",
        "for key in keys:\n",
        "  xored1 = [\"0\"]*128\n",
        "  xored2 = [\"0\"]*128\n",
        "  xored2_5 = [\"0\"]*128\n",
        "  for plaintext in bit_messages:\n",
        "    results = round_encrypt(plaintext, key)\n",
        "    round_result1 = results[0][0] \n",
        "    round_result2 = results[0][1]\n",
        "    half_result = result[2]\n",
        "    for i in range(len(round_result1)):\n",
        "      xored1[i] = bitxor(round_result1[i], xored1[i])\n",
        "      xored2[i] = bitxor(round_result2[i], xored2[i])\n",
        "      xored2_5[i] = bitxor(half_result[i], xored2_5[i])\n",
        "  for j in range(128):\n",
        "    ored1[j] = bitor(xored1[j], ored1[j])\n",
        "    ored2[j] = bitor(xored2[j], ored2[j])\n",
        "    ored2_5[j] = bitor(xored2_5[j], ored2_5[j])\n",
        "\n",
        "print(ored1)\n",
        "print(ored2) \n",
        "print(ored2_5)"
      ],
      "metadata": {
        "colab": {
          "base_uri": "https://localhost:8080/"
        },
        "id": "4g4uHGQBwZYT",
        "outputId": "919db21f-8849-487a-c5bd-4873064c5f84"
      },
      "execution_count": null,
      "outputs": [
        {
          "output_type": "stream",
          "name": "stdout",
          "text": [
            "[0, 0, 0, 0, 0, 0, 0, 0, 0, 0, 0, 0, 0, 0, 0, 0, 0, 0, 0, 0, 0, 0, 0, 0, 0, 0, 0, 0, 0, 0, 0, 0, 0, 0, 0, 0, 0, 0, 0, 0, 0, 0, 0, 0, 0, 0, 0, 0, 0, 0, 0, 0, 0, 0, 0, 0, 0, 0, 0, 0, 0, 0, 0, 0, 0, 0, 0, 0, 0, 0, 0, 0, 0, 0, 0, 0, 0, 0, 0, 0, 0, 0, 0, 0, 0, 0, 0, 0, 0, 0, 0, 0, 0, 0, 0, 0, 0, 0, 0, 0, 0, 0, 0, 0, 0, 0, 0, 0, 0, 0, 0, 0, 0, 0, 0, 0, 0, 0, 0, 0, 0, 0, 0, 0, 0, 0, 0, 0]\n",
            "[0, 0, 0, 0, 0, 0, 0, 0, 0, 0, 0, 0, 0, 0, 0, 0, 0, 0, 0, 0, 0, 0, 0, 0, 0, 0, 0, 0, 0, 0, 0, 0, 0, 0, 0, 0, 0, 0, 0, 0, 0, 0, 0, 0, 0, 0, 0, 0, 0, 0, 0, 0, 0, 0, 0, 0, 0, 0, 0, 0, 0, 0, 0, 0, 0, 0, 0, 0, 0, 0, 0, 0, 0, 0, 0, 0, 0, 0, 0, 0, 0, 0, 0, 0, 0, 0, 0, 0, 0, 0, 0, 0, 0, 0, 0, 0, 0, 0, 0, 0, 0, 0, 0, 0, 0, 0, 0, 0, 0, 0, 0, 0, 0, 0, 0, 0, 0, 0, 0, 0, 0, 0, 0, 0, 0, 0, 0, 0]\n",
            "[1, 1, 1, 1, 0, 0, 1, 1, 0, 1, 1, 0, 1, 0, 0, 1, 0, 0, 0, 1, 1, 0, 0, 0, 1, 1, 1, 0, 0, 1, 0, 1, 1, 0, 1, 1, 0, 0, 0, 1, 0, 1, 0, 1, 0, 0, 1, 1, 1, 1, 0, 1, 0, 1, 1, 1, 1, 0, 0, 0, 0, 1, 1, 0, 1, 1, 1, 1, 0, 1, 0, 0, 1, 0, 1, 0, 1, 1, 1, 1, 1, 0, 1, 1, 0, 0, 1, 1, 1, 1, 0, 1, 0, 0, 1, 0, 1, 0, 0, 0, 0, 1, 0, 1, 0, 0, 0, 0, 0, 1, 0, 1, 0, 1, 1, 1, 1, 0, 0, 1, 1, 1, 0, 1, 0, 0, 1, 1]\n"
          ]
        }
      ]
    },
    {
      "cell_type": "markdown",
      "source": [
        "As can be seen, the or of xors of results of the first 2 rounds are all 0, meaning all bits maintain Balanced property until after the second round.\n",
        "After that, till the 2.5 rounds completion, some bits don't maintain the property."
      ],
      "metadata": {
        "id": "u7Pyfh-A9evo"
      }
    }
  ],
  "metadata": {
    "colab": {
      "provenance": [],
      "collapsed_sections": [
        "tLsbuRb4pm1n",
        "igrjWlxkqo6q",
        "qSFNwO16rpK_",
        "xCXsv_yOr4lO",
        "b2-KCGKutdpw",
        "AmnJltlixNMZ",
        "vi4Y-M41wqk4",
        "nFsyQQF4xi8S",
        "z3xNMJfLzRH1",
        "Em2WobNczAfr",
        "KtJJHYhzzJW1"
      ]
    },
    "kernelspec": {
      "display_name": "Python 3",
      "name": "python3"
    },
    "language_info": {
      "name": "python"
    }
  },
  "nbformat": 4,
  "nbformat_minor": 0
}